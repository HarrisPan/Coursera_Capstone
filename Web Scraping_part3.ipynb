{
 "cells": [
  {
   "cell_type": "markdown",
   "metadata": {},
   "source": [
    "<h1>Applied Data Science Capstone Part 2</h1>\n",
    "<h2><i>Web Scraping</i></h2>"
   ]
  },
  {
   "cell_type": "code",
   "execution_count": 3,
   "metadata": {},
   "outputs": [],
   "source": [
    "from bs4 import BeautifulSoup\n",
    "import requests\n",
    "import pandas as pd"
   ]
  },
  {
   "cell_type": "code",
   "execution_count": 4,
   "metadata": {},
   "outputs": [
    {
     "name": "stdout",
     "output_type": "stream",
     "text": [
      "<Response [200]>\n"
     ]
    }
   ],
   "source": [
    "page = requests.get(\"https://en.wikipedia.org/wiki/List_of_postal_codes_of_Canada:_M\")  #Request the following url\n",
    "print(page) #Respone : 200 = Successful url load\n",
    "doc = page.text #get the html of the url page"
   ]
  },
  {
   "cell_type": "code",
   "execution_count": 5,
   "metadata": {},
   "outputs": [],
   "source": [
    "dic = {} #Empty dictionary to hold the whole information. It will be filled and be converted into a pandas dataframe later\n",
    "postcode_list = []  #List to hold the Postcodes\n",
    "borough_list = []  #List to hold the Boroughs\n",
    "neighbourhood_list = []  ##List to hold the Neighbourhoods"
   ]
  },
  {
   "cell_type": "code",
   "execution_count": 6,
   "metadata": {},
   "outputs": [
    {
     "name": "stdout",
     "output_type": "stream",
     "text": [
      "M1A Not assigned Not assigned\n",
      "\n"
     ]
    }
   ],
   "source": [
    "soup = BeautifulSoup(doc, 'html.parser')  #Initialize a BeatifulSoup object to parse the doc\n",
    "table = soup.find('tbody') #Get the table\n",
    "data = table.find_all('td') #Get the table data as a list\n",
    "print(data[0].text , data[1].text , data[2].text) #check the first row"
   ]
  },
  {
   "cell_type": "code",
   "execution_count": 7,
   "metadata": {},
   "outputs": [],
   "source": [
    "data_rows = len(data)\n",
    "x = range(0,int(data_rows),3) #create a range to iterate through the list , always getting the first item (PostCode) of every row \n",
    "for index in x:\n",
    "    if (data[index+1].text != \"Not assigned\"):  #Assure that the row doesn't contain \"Not aassigned\" value\n",
    "        #Then get each value into the apropriate list\n",
    "        if data[index].text not in postcode_list: #If the postcode is not in the list , append the whole row\n",
    "            postcode_list.append(data[index].text)\n",
    "            borough_list.append(data[index+1].text)\n",
    "            neighbourhood_list.append(data[index+2].text.replace('\\n','')) #We get rid of the '\\n' from every neighbourhood data\n",
    "        else:  #If it the postcode is already in the list , find its index and add the additional neighborhood in the neighbourhood list (comma seperated)\n",
    "            position = postcode_list.index(data[index].text)\n",
    "            neighbourhood_list[position] += \", \"\n",
    "            neighbourhood_list[position] += data[index+2].text.replace('\\n','')"
   ]
  },
  {
   "cell_type": "code",
   "execution_count": 8,
   "metadata": {},
   "outputs": [],
   "source": [
    "#If a neighbourhood in neighbourhood_list has a 'Not assigned' value , replace it with the respective borough  name\n",
    "\n",
    "filtered_neighbourhood_list = neighbourhood_list[:]\n",
    "i = 0\n",
    "\n",
    "for n in neighbourhood_list:\n",
    "        if n == 'Not assigned':\n",
    "            position = neighbourhood_list.index('Not assigned')\n",
    "            filtered_neighbourhood_list[i] = borough_list[position]\n",
    "        else:\n",
    "            filtered_neighbourhood_list[i] = n\n",
    "        i += 1"
   ]
  },
  {
   "cell_type": "code",
   "execution_count": 9,
   "metadata": {},
   "outputs": [],
   "source": [
    "#Fill the dictionary 'dic' with the information\n",
    "dic['Postcode'] = postcode_list\n",
    "dic['Borough'] = borough_list\n",
    "dic['Neighbourhood'] = filtered_neighbourhood_list"
   ]
  },
  {
   "cell_type": "code",
   "execution_count": 10,
   "metadata": {},
   "outputs": [
    {
     "name": "stdout",
     "output_type": "stream",
     "text": [
      "  Postcode           Borough                     Neighbourhood\n",
      "0      M3A        North York                         Parkwoods\n",
      "1      M4A        North York                  Victoria Village\n",
      "2      M5A  Downtown Toronto         Harbourfront, Regent Park\n",
      "3      M6A        North York  Lawrence Heights, Lawrence Manor\n",
      "4      M7A      Queen's Park                      Queen's Park\n"
     ]
    }
   ],
   "source": [
    "#Create the pandas dataframe\n",
    "df = pd.DataFrame.from_dict(dic)\n",
    "\n",
    "print(df.head())"
   ]
  },
  {
   "cell_type": "code",
   "execution_count": 11,
   "metadata": {},
   "outputs": [
    {
     "name": "stdout",
     "output_type": "stream",
     "text": [
      "103\n"
     ]
    }
   ],
   "source": [
    "#Number of rows\n",
    "print(df.shape[0])"
   ]
  },
  {
   "cell_type": "markdown",
   "metadata": {},
   "source": [
    "<h2><i>Getting the Geographical Data</i></h2>"
   ]
  },
  {
   "cell_type": "code",
   "execution_count": 23,
   "metadata": {},
   "outputs": [
    {
     "name": "stdout",
     "output_type": "stream",
     "text": [
      "  Postal Code   Latitude  Longitude\n",
      "0         M1B  43.806686 -79.194353\n",
      "1         M1C  43.784535 -79.160497\n",
      "2         M1E  43.763573 -79.188711\n",
      "3         M1G  43.770992 -79.216917\n",
      "4         M1H  43.773136 -79.239476\n",
      "<class 'list'>\n"
     ]
    }
   ],
   "source": [
    "gdf = pd.read_csv('http://cocl.us/Geospatial_data') #Read the data csv\n",
    "p = list(gdf['Postal Code']) #Get the data into lists\n",
    "lat = list(gdf['Latitude'])\n",
    "lon = list(gdf['Longitude'])\n",
    "\n",
    "print(gdf.head())"
   ]
  },
  {
   "cell_type": "code",
   "execution_count": 27,
   "metadata": {},
   "outputs": [],
   "source": [
    "lat_list = [] #Create two new lists to hold the appended data\n",
    "lon_list = []\n",
    "\n",
    "for x in postcode_list:  #fill the new lists based on the postcodes in df\n",
    "        position = p.index(x)\n",
    "        lat_list.append(lat[position])\n",
    "        lon_list.append(lon[position])"
   ]
  },
  {
   "cell_type": "code",
   "execution_count": 34,
   "metadata": {},
   "outputs": [
    {
     "name": "stdout",
     "output_type": "stream",
     "text": [
      "  Postcode           Borough                     Neighbourhood   Latitude  \\\n",
      "0      M3A        North York                         Parkwoods  43.753259   \n",
      "1      M4A        North York                  Victoria Village  43.725882   \n",
      "2      M5A  Downtown Toronto         Harbourfront, Regent Park  43.654260   \n",
      "3      M6A        North York  Lawrence Heights, Lawrence Manor  43.718518   \n",
      "4      M7A      Queen's Park                      Queen's Park  43.662301   \n",
      "\n",
      "   Longitude  \n",
      "0 -79.329656  \n",
      "1 -79.315572  \n",
      "2 -79.360636  \n",
      "3 -79.464763  \n",
      "4 -79.389494  \n"
     ]
    }
   ],
   "source": [
    "dic['Latitude'] = lat_list  #Append the new data in the previously created dictionary\n",
    "dic['Longitude'] = lon_list\n",
    "\n",
    "df = pd.DataFrame.from_dict(dic)  #Recreate the dataframe \n",
    "\n",
    "print(df.head())"
   ]
  },
  {
   "cell_type": "markdown",
   "metadata": {},
   "source": [
    "<h2>Apply KMeans Clustering</h2>"
   ]
  },
  {
   "cell_type": "code",
   "execution_count": 35,
   "metadata": {},
   "outputs": [],
   "source": [
    "from matplotlib import pyplot as plt\n",
    "from sklearn.cluster import KMeans"
   ]
  },
  {
   "cell_type": "code",
   "execution_count": 41,
   "metadata": {},
   "outputs": [
    {
     "data": {
      "image/png": "[encoded data removed]",
      "text/plain": [
       "<Figure size 432x288 with 1 Axes>"
      ]
     },
     "metadata": {
      "needs_background": "light"
     },
     "output_type": "display_data"
    }
   ],
   "source": [
    "k = 3\n",
    "x1 = df.loc[:,'Latitude':'Longitude']\n",
    "kmeans = KMeans(n_clusters=k)\n",
    "kmeans = kmeans.fit(x1)\n",
    "labels = kmeans.labels_\n",
    "centroids = kmeans.cluster_centers_\n",
    "\n",
    "colors = ['blue','red','green','black']\n",
    "y = 0\n",
    "\n",
    "for x in labels:\n",
    "    plt.scatter(x1.iloc[y,0],x1.iloc[y,1],color=colors[x])\n",
    "    y += 1\n",
    "    \n",
    "plt.show()"
   ]
  },
  {
   "cell_type": "code",
   "execution_count": null,
   "metadata": {},
   "outputs": [],
   "source": []
  }
 ],
 "metadata": {
  "kernelspec": {
   "display_name": "Python 3",
   "language": "python",
   "name": "python3"
  },
  "language_info": {
   "codemirror_mode": {
    "name": "ipython",
    "version": 3
   },
   "file_extension": ".py",
   "mimetype": "text/x-python",
   "name": "python",
   "nbconvert_exporter": "python",
   "pygments_lexer": "ipython3",
   "version": "3.6.6"
  }
 },
 "nbformat": 4,
 "nbformat_minor": 2
}

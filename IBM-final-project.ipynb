{
 "cells": [
  {
   "cell_type": "markdown",
   "metadata": {},
   "source": [
    "<h3>Applied Data Science Capstone Project - IBM - Coursera</h3>"
   ]
  },
  {
   "cell_type": "markdown",
   "metadata": {},
   "source": [
    "<h4><i>Harris Panagiotidis</i></h4>"
   ]
  },
  {
   "cell_type": "markdown",
   "metadata": {},
   "source": [
    "<h5>Introduction</h5>\n",
    "<p>For my final project , I will go with the idea of determining if a location is recommended for someone to open his restaurant. As I am from Greece , I will be using some Greek locations . It is my opinion , that a restaurant is better to be opened in a place where the least restaurants exist , and also has a high nightlife perspective. In conclusion , the target audience is anyone interested in finding if a given location would be appropriate to open his food business.</p>"
   ]
  },
  {
   "cell_type": "markdown",
   "metadata": {},
   "source": [
    "<h5>Process Description</h5>\n",
    "<p>As I already mentioned , I will try to find the best (in my opinion) place , for someone to open his restaurant. I assume that this place should one with high nightlife and small competition (none or a few other restaurants). I will use the coordinates of some of the most popular places in Greece , analyze the data for each , and conclude to best option. The data which will be used are every cafe , bar , pub , night club and restaurants for the center-point of each geographical location provided. Of course I will use only the most high visited of Greece!</p>\n",
    "<p><b>Steps</b></p>\n",
    "<ol>\n",
    "    <li><p>Build a DataFrame which will contain how many cafes,nighlife venues, fun venues and restaurant venues there are, in each of seven popular locations of Greece. I will use a scanning radius of 1000m around the desired place. The latitutes and longitutes for the seven towns will be predefined in two lists, then the appropriate URIs will be built through itteration , and calls to the foursquare api will be made to get the information into a dictionary and then into a pandas dataframe</p></li> \n",
    "    <li><p>We classify with iteration each of the seven locations as Suitable (<b>1</b>) or Non Suitable (<b>0</b>) to run your restaurant. Don't forget that as Suitable locations will be chosen only those which are low on competition and high in nightlife, entertainment etc </p></li>\n",
    "    <li><p>For the last step , we will be using machine learning to build a model , which is going to help us determine if a new location could be good for opening a restaurant. We will use a well-known machine learning technique called Naive Bayes, which uses probabilities to classify the new data</p></li>\n",
    "</ol>"
   ]
  },
  {
   "cell_type": "code",
   "execution_count": 3,
   "metadata": {},
   "outputs": [],
   "source": [
    "import requests\n",
    "import json\n",
    "import pandas as pd"
   ]
  },
  {
   "cell_type": "code",
   "execution_count": 4,
   "metadata": {},
   "outputs": [],
   "source": [
    "#List with the latitude and longitute of 7 Greece loacations\n",
    "#Hlioupolh , Dafnh , Kalithea , Voula , Peiraias , Vironas , Argiroupoli\n",
    "latitudes = [37.931911,37.950636,37.960251,37.847965,37.946168,37.961430,37.911070]\n",
    "longitutes = [23.757250,23.735825,23.714958,23.771608,23.655948,23.752890,23.749140]\n",
    "\n",
    "#Empty lists which will be filled with the URIS\n",
    "c_urls = [] #For coffe query\n",
    "nl_urls = [] #For nightlife query\n",
    "r_urls = [] #For restaurant query\n",
    "f_urls = [] #For fun query"
   ]
  },
  {
   "cell_type": "code",
   "execution_count": 5,
   "metadata": {},
   "outputs": [],
   "source": [
    "#Iterate to build all the URIs and fill the lists\n",
    "for i in latitudes:\n",
    "    temp = latitudes.index(i)\n",
    "    temp2 = str(longitutes[temp])\n",
    "    url_cof = 'https://api.foursquare.com/v2/venues/search?client_id=KC340FOFQKP1ICLG13CZCURV0LXAMZVZRECZFGJ145RG4DFJ&client_secret=WZVDRYVWJS3IGIRXIXTBJNREH5H1QIDNUWWHL1MS3H3OFBDX&v=20190206&ll='+str(i)+','+temp2+'&radius=1000&query=coffee'\n",
    "    c_urls.append(url_cof)\n",
    "    url_nl = 'https://api.foursquare.com/v2/venues/search?client_id=KC340FOFQKP1ICLG13CZCURV0LXAMZVZRECZFGJ145RG4DFJ&client_secret=WZVDRYVWJS3IGIRXIXTBJNREH5H1QIDNUWWHL1MS3H3OFBDX&v=20190206&ll='+str(i)+','+temp2+'&radius=1000&query=bar'\n",
    "    nl_urls.append(url_nl)\n",
    "    url_r = 'https://api.foursquare.com/v2/venues/search?client_id=KC340FOFQKP1ICLG13CZCURV0LXAMZVZRECZFGJ145RG4DFJ&client_secret=WZVDRYVWJS3IGIRXIXTBJNREH5H1QIDNUWWHL1MS3H3OFBDX&v=20190206&ll='+str(i)+','+temp2+'&radius=1000&query=food'\n",
    "    r_urls.append(url_r)\n",
    "    url_f = 'https://api.foursquare.com/v2/venues/search?client_id=KC340FOFQKP1ICLG13CZCURV0LXAMZVZRECZFGJ145RG4DFJ&client_secret=WZVDRYVWJS3IGIRXIXTBJNREH5H1QIDNUWWHL1MS3H3OFBDX&v=20190206&ll='+str(i)+','+temp2+'&radius=1000&query=fun'\n",
    "    f_urls.append(url_f)"
   ]
  },
  {
   "cell_type": "code",
   "execution_count": 6,
   "metadata": {},
   "outputs": [],
   "source": [
    "#Empty lists to hold the counts \n",
    "c_count = [] #Counted coffee venues\n",
    "nl_count = [] #Counted nightlife venues (bars)\n",
    "r_count = [] #Counted food venues (restaurants)\n",
    "f_count = [] #Counted fun venues"
   ]
  },
  {
   "cell_type": "code",
   "execution_count": 7,
   "metadata": {},
   "outputs": [],
   "source": [
    "#Request the venues and fill in the counts for each location\n",
    "for i in range(len(latitudes)):\n",
    "    response = requests.get(c_urls[i])\n",
    "    response2 = requests.get(nl_urls[i])\n",
    "    response3 = requests.get(r_urls[i])\n",
    "    response4 = requests.get(f_urls[i])\n",
    "    x = response.text\n",
    "    y = response2.text\n",
    "    z = response3.text\n",
    "    k = response4.text\n",
    "    js = json.loads(x)\n",
    "    js2 = json.loads(y)\n",
    "    js3 = json.loads(z)\n",
    "    js4 = json.loads(k)\n",
    "    c_count.append(len(js['response']['venues']))\n",
    "    nl_count.append(len(js2['response']['venues']))\n",
    "    r_count.append(len(js3['response']['venues']))\n",
    "    f_count.append(len(js4['response']['venues']))\n",
    "    "
   ]
  },
  {
   "cell_type": "code",
   "execution_count": 8,
   "metadata": {},
   "outputs": [
    {
     "name": "stdout",
     "output_type": "stream",
     "text": [
      "Coffee Counts: [9, 21, 30, 2, 30, 25, 18]\n",
      "NightLife Counts: [19, 23, 30, 7, 30, 30, 14]\n",
      "Restaurant Counts: [0, 3, 4, 0, 7, 5, 1]\n",
      "Fun Counts: [1, 1, 2, 1, 4, 2, 0]\n"
     ]
    }
   ],
   "source": [
    "print('Coffee Counts: '+str(c_count))\n",
    "print('NightLife Counts: '+str(nl_count))\n",
    "print('Restaurant Counts: '+str(r_count))\n",
    "print('Fun Counts: '+str(f_count))"
   ]
  },
  {
   "cell_type": "markdown",
   "metadata": {},
   "source": [
    "<p><b>To make it clear, each list contains how many of a particular venue each location contains. For example Hlioupoli contains 9 coffee shops , 0 restaurants etc</b></p>"
   ]
  },
  {
   "cell_type": "markdown",
   "metadata": {},
   "source": [
    "<h2>Data Found Summarization</h2>\n",
    "<b>City</b>: Hlioupoli -- <b>Coffee Venues</b>: 9 -- <b>Nightlife Venues</b>: 19 -- <b>Food Venues</b>: 0 -- <b>Fun Venues</b>: 1 <br>\n",
    "<b>City</b>: Dafnh -- <b>Coffee Venues</b>: 21 -- <b>Nightlife Venues</b>: 23 -- <b>Food Venues</b>: 3 -- <b>Fun Venues</b>: 1 <br>\n",
    "<b>City</b>: Kalithea -- <b>Coffee Venues</b>: 30 -- <b>Nightlife Venues</b>: 30 -- <b>Food Venues</b>: 4 -- <b>Fun Venues</b>: 2<br>\n",
    "<b>City</b>: Voula -- <b>Coffee Venues</b>: 2 -- <b>Nightlife Venues</b>: 7 -- <b>Food Venues</b>: 0 -- <b>Fun Venues</b>: 4<br>\n",
    "<b>City</b>: Peiraias -- <b>Coffee Venues</b>: 30 -- <b>Nightlife Venues</b>: 30 -- <b>Food Venues</b>: 7 -- <b>Fun Venues</b>: 4<br>"
   ]
  },
  {
   "cell_type": "code",
   "execution_count": 9,
   "metadata": {},
   "outputs": [],
   "source": [
    "lis = [[],[],[],[],[],[],[]]    "
   ]
  },
  {
   "cell_type": "code",
   "execution_count": 10,
   "metadata": {},
   "outputs": [],
   "source": [
    "for i in range(len(c_count)):\n",
    "               lis[i].append(c_count[i])\n",
    "               lis[i].append(nl_count[i])\n",
    "               lis[i].append(r_count[i])\n",
    "               lis[i].append(f_count[i]) \n",
    "               if(r_count[i]>3):\n",
    "                    lis[i].append(0)\n",
    "               elif(r_count[i]<=3 and (0.6*nl_count[i]+0.1*c_count[i]+0.3*f_count[i])>13):\n",
    "                    lis[i].append(1)\n",
    "               else:\n",
    "                    lis[i].append(0)\n",
    "dic = {'hlioupoli':lis[0],'dafnh':lis[1],'kalithea': lis[2],'voula':lis[3],'peiraias':lis[4],'vironas':lis[5],'argiroupoli':lis[6]}\n",
    "    "
   ]
  },
  {
   "cell_type": "code",
   "execution_count": 11,
   "metadata": {},
   "outputs": [
    {
     "name": "stdout",
     "output_type": "stream",
     "text": [
      "{'hlioupoli': [9, 19, 0, 1, 0], 'dafnh': [21, 23, 3, 1, 1], 'kalithea': [30, 30, 4, 2, 0], 'voula': [2, 7, 0, 1, 0], 'peiraias': [30, 30, 7, 4, 0], 'vironas': [25, 30, 5, 2, 0], 'argiroupoli': [18, 14, 1, 0, 0]}\n"
     ]
    }
   ],
   "source": [
    "print(dic)"
   ]
  },
  {
   "cell_type": "code",
   "execution_count": 12,
   "metadata": {},
   "outputs": [],
   "source": [
    "temp_df = pd.DataFrame.from_dict(dic)\n",
    "df = temp_df.transpose()"
   ]
  },
  {
   "cell_type": "code",
   "execution_count": 13,
   "metadata": {},
   "outputs": [
    {
     "name": "stdout",
     "output_type": "stream",
     "text": [
      "              0   1  2  3  4\n",
      "hlioupoli     9  19  0  1  0\n",
      "dafnh        21  23  3  1  1\n",
      "kalithea     30  30  4  2  0\n",
      "voula         2   7  0  1  0\n",
      "peiraias     30  30  7  4  0\n",
      "vironas      25  30  5  2  0\n",
      "argiroupoli  18  14  1  0  0\n"
     ]
    }
   ],
   "source": [
    "print(df)"
   ]
  },
  {
   "cell_type": "markdown",
   "metadata": {},
   "source": [
    "<h2>Apply Machine Learning</h2>"
   ]
  },
  {
   "cell_type": "code",
   "execution_count": 14,
   "metadata": {},
   "outputs": [],
   "source": [
    "from sklearn.naive_bayes import GaussianNB"
   ]
  },
  {
   "cell_type": "code",
   "execution_count": 15,
   "metadata": {},
   "outputs": [],
   "source": [
    "X = df.loc[:,0:3]\n",
    "Y = df.loc[:,4]"
   ]
  },
  {
   "cell_type": "code",
   "execution_count": 16,
   "metadata": {},
   "outputs": [
    {
     "data": {
      "text/plain": [
       "GaussianNB(priors=None, var_smoothing=1e-09)"
      ]
     },
     "execution_count": 16,
     "metadata": {},
     "output_type": "execute_result"
    }
   ],
   "source": [
    "clf = GaussianNB()\n",
    "clf.fit(X,Y)"
   ]
  },
  {
   "cell_type": "code",
   "execution_count": 18,
   "metadata": {},
   "outputs": [
    {
     "name": "stdout",
     "output_type": "stream",
     "text": [
      "[0]\n"
     ]
    }
   ],
   "source": [
    "X_test = [[4,10,3,1]] #<-- Here you put venues information about the \n",
    "                      #desired location \n",
    "prediction = clf.predict(X_test) #The object will predict if this place is\n",
    "                                 #suitable(0) for running your restaurant\n",
    "                                 #or not(0)\n",
    "print(prediction)"
   ]
  },
  {
   "cell_type": "code",
   "execution_count": null,
   "metadata": {},
   "outputs": [],
   "source": []
  }
 ],
 "metadata": {
  "kernelspec": {
   "display_name": "Python 3",
   "language": "python",
   "name": "python3"
  },
  "language_info": {
   "codemirror_mode": {
    "name": "ipython",
    "version": 3
   },
   "file_extension": ".py",
   "mimetype": "text/x-python",
   "name": "python",
   "nbconvert_exporter": "python",
   "pygments_lexer": "ipython3",
   "version": "3.6.6"
  }
 },
 "nbformat": 4,
 "nbformat_minor": 2
}
